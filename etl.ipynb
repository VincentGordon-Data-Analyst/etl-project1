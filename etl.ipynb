{
 "cells": [
  {
   "cell_type": "code",
   "execution_count": 31,
   "metadata": {},
   "outputs": [
    {
     "name": "stdout",
     "output_type": "stream",
     "text": [
      "Imports completed!\n"
     ]
    }
   ],
   "source": [
    "import requests\n",
    "import pandas as pd\n",
    "import numpy as np\n",
    "from sqlalchemy import create_engine\n",
    "\n",
    "print('Imports completed!')"
   ]
  },
  {
   "cell_type": "code",
   "execution_count": 32,
   "metadata": {},
   "outputs": [
    {
     "data": {
      "text/plain": [
       "[{'name': {'common': 'Canada',\n",
       "   'official': 'Canada',\n",
       "   'nativeName': {'eng': {'official': 'Canada', 'common': 'Canada'},\n",
       "    'fra': {'official': 'Canada', 'common': 'Canada'}}},\n",
       "  'tld': ['.ca'],\n",
       "  'cca2': 'CA',\n",
       "  'ccn3': '124',\n",
       "  'cca3': 'CAN',\n",
       "  'cioc': 'CAN',\n",
       "  'independent': True,\n",
       "  'status': 'officially-assigned',\n",
       "  'unMember': True,\n",
       "  'currencies': {'CAD': {'name': 'Canadian dollar', 'symbol': '$'}},\n",
       "  'idd': {'root': '+1', 'suffixes': ['']},\n",
       "  'capital': ['Ottawa'],\n",
       "  'altSpellings': ['CA'],\n",
       "  'region': 'Americas',\n",
       "  'subregion': 'North America',\n",
       "  'languages': {'eng': 'English', 'fra': 'French'},\n",
       "  'translations': {'ara': {'official': 'كندا', 'common': 'كندا'},\n",
       "   'bre': {'official': 'Kanada', 'common': 'Kanada'},\n",
       "   'ces': {'official': 'Kanada', 'common': 'Kanada'},\n",
       "   'cym': {'official': 'Canada', 'common': 'Canada'},\n",
       "   'deu': {'official': 'Kanada', 'common': 'Kanada'},\n",
       "   'est': {'official': 'Kanada', 'common': 'Kanada'},\n",
       "   'fin': {'official': 'Kanada', 'common': 'Kanada'},\n",
       "   'fra': {'official': 'Canada', 'common': 'Canada'},\n",
       "   'hrv': {'official': 'Kanada', 'common': 'Kanada'},\n",
       "   'hun': {'official': 'Kanada', 'common': 'Kanada'},\n",
       "   'ita': {'official': 'Canada', 'common': 'Canada'},\n",
       "   'jpn': {'official': 'カナダ', 'common': 'カナダ'},\n",
       "   'kor': {'official': '캐나다', 'common': '캐나다'},\n",
       "   'nld': {'official': 'Canada', 'common': 'Canada'},\n",
       "   'per': {'official': 'کانادا', 'common': 'کانادا'},\n",
       "   'pol': {'official': 'Kanada', 'common': 'Kanada'},\n",
       "   'por': {'official': 'Canadá', 'common': 'Canadá'},\n",
       "   'rus': {'official': 'Канада', 'common': 'Канада'},\n",
       "   'slk': {'official': 'Kanada', 'common': 'Kanada'},\n",
       "   'spa': {'official': 'Canadá', 'common': 'Canadá'},\n",
       "   'srp': {'official': 'Канада', 'common': 'Канада'},\n",
       "   'swe': {'official': 'Kanada', 'common': 'Kanada'},\n",
       "   'tur': {'official': 'Kanada', 'common': 'Kanada'},\n",
       "   'urd': {'official': 'کینیڈا', 'common': 'کینیڈا'},\n",
       "   'zho': {'official': '加拿大', 'common': '加拿大'}},\n",
       "  'latlng': [60.0, -95.0],\n",
       "  'landlocked': False,\n",
       "  'borders': ['USA'],\n",
       "  'area': 9984670.0,\n",
       "  'demonyms': {'eng': {'f': 'Canadian', 'm': 'Canadian'},\n",
       "   'fra': {'f': 'Canadienne', 'm': 'Canadien'}},\n",
       "  'flag': '🇨🇦',\n",
       "  'maps': {'googleMaps': 'https://goo.gl/maps/jmEVLugreeqiZXxbA',\n",
       "   'openStreetMaps': 'https://www.openstreetmap.org/relation/1428125'},\n",
       "  'population': 38005238,\n",
       "  'gini': {'2017': 33.3},\n",
       "  'fifa': 'CAN',\n",
       "  'car': {'signs': ['CDN'], 'side': 'right'},\n",
       "  'timezones': ['UTC-08:00',\n",
       "   'UTC-07:00',\n",
       "   'UTC-06:00',\n",
       "   'UTC-05:00',\n",
       "   'UTC-04:00',\n",
       "   'UTC-03:30'],\n",
       "  'continents': ['North America'],\n",
       "  'flags': {'png': 'https://flagcdn.com/w320/ca.png',\n",
       "   'svg': 'https://flagcdn.com/ca.svg',\n",
       "   'alt': 'The flag of Canada is composed of a red vertical band on the hoist and fly sides and a central white square that is twice the width of the vertical bands. A large eleven-pointed red maple leaf is centered in the white square.'},\n",
       "  'coatOfArms': {'png': 'https://mainfacts.com/media/images/coats_of_arms/ca.png',\n",
       "   'svg': 'https://mainfacts.com/media/images/coats_of_arms/ca.svg'},\n",
       "  'startOfWeek': 'sunday',\n",
       "  'capitalInfo': {'latlng': [45.42, -75.7]},\n",
       "  'postalCode': {'format': '@#@ #@#',\n",
       "   'regex': '^([ABCEGHJKLMNPRSTVXY]\\\\d[ABCEGHJKLMNPRSTVWXYZ]) ?(\\\\d[ABCEGHJKLMNPRSTVWXYZ]\\\\d)$'}}]"
      ]
     },
     "execution_count": 32,
     "metadata": {},
     "output_type": "execute_result"
    }
   ],
   "source": [
    "url = 'https://restcountries.com/v3.1/name/canada?fullText=true'\n",
    "response = requests.get(url)\n",
    "response.json()"
   ]
  },
  {
   "cell_type": "code",
   "execution_count": 33,
   "metadata": {},
   "outputs": [
    {
     "name": "stdout",
     "output_type": "stream",
     "text": [
      "Extracted 1 records from API\n"
     ]
    }
   ],
   "source": [
    "# Basic structure of a data pipeline\n",
    "\n",
    "def extract_data(api_url):\n",
    "    response = requests.get(api_url)\n",
    "    if response.status_code == 200:\n",
    "        return response.json()\n",
    "    else:\n",
    "        raise Exception(f\"API request failed with status code: {response.status_code}\")\n",
    "\n",
    "url = 'https://restcountries.com/v3.1/name/canada'\n",
    "raw_data = extract_data(url)\n",
    "print(f\"Extracted {len(raw_data)} records from API\")\n",
    "\n",
    "def transform_data(raw_data):\n",
    "    pass\n",
    "\n",
    "def load_data(transformed_data):\n",
    "    pass\n",
    "\n",
    "def run_pipeline():\n",
    "    raw_data = extract_data()\n",
    "    transformed_data = transform_data(raw_data)\n",
    "    load_data(transform_data)\n",
    "\n",
    "# run_pipeline()\n",
    "    "
   ]
  },
  {
   "cell_type": "code",
   "execution_count": 34,
   "metadata": {},
   "outputs": [
    {
     "data": {
      "text/html": [
       "<div>\n",
       "<style scoped>\n",
       "    .dataframe tbody tr th:only-of-type {\n",
       "        vertical-align: middle;\n",
       "    }\n",
       "\n",
       "    .dataframe tbody tr th {\n",
       "        vertical-align: top;\n",
       "    }\n",
       "\n",
       "    .dataframe thead th {\n",
       "        text-align: right;\n",
       "    }\n",
       "</style>\n",
       "<table border=\"1\" class=\"dataframe\">\n",
       "  <thead>\n",
       "    <tr style=\"text-align: right;\">\n",
       "      <th></th>\n",
       "      <th>name</th>\n",
       "      <th>tld</th>\n",
       "      <th>cca2</th>\n",
       "      <th>ccn3</th>\n",
       "      <th>cca3</th>\n",
       "      <th>cioc</th>\n",
       "      <th>independent</th>\n",
       "      <th>status</th>\n",
       "      <th>unMember</th>\n",
       "      <th>currencies</th>\n",
       "      <th>...</th>\n",
       "      <th>gini</th>\n",
       "      <th>fifa</th>\n",
       "      <th>car</th>\n",
       "      <th>timezones</th>\n",
       "      <th>continents</th>\n",
       "      <th>flags</th>\n",
       "      <th>coatOfArms</th>\n",
       "      <th>startOfWeek</th>\n",
       "      <th>capitalInfo</th>\n",
       "      <th>postalCode</th>\n",
       "    </tr>\n",
       "  </thead>\n",
       "  <tbody>\n",
       "    <tr>\n",
       "      <th>0</th>\n",
       "      <td>{'common': 'Canada', 'official': 'Canada', 'na...</td>\n",
       "      <td>[.ca]</td>\n",
       "      <td>CA</td>\n",
       "      <td>124</td>\n",
       "      <td>CAN</td>\n",
       "      <td>CAN</td>\n",
       "      <td>True</td>\n",
       "      <td>officially-assigned</td>\n",
       "      <td>True</td>\n",
       "      <td>{'CAD': {'name': 'Canadian dollar', 'symbol': ...</td>\n",
       "      <td>...</td>\n",
       "      <td>{'2017': 33.3}</td>\n",
       "      <td>CAN</td>\n",
       "      <td>{'signs': ['CDN'], 'side': 'right'}</td>\n",
       "      <td>[UTC-08:00, UTC-07:00, UTC-06:00, UTC-05:00, U...</td>\n",
       "      <td>[North America]</td>\n",
       "      <td>{'png': 'https://flagcdn.com/w320/ca.png', 'sv...</td>\n",
       "      <td>{'png': 'https://mainfacts.com/media/images/co...</td>\n",
       "      <td>sunday</td>\n",
       "      <td>{'latlng': [45.42, -75.7]}</td>\n",
       "      <td>{'format': '@#@ #@#', 'regex': '^([ABCEGHJKLMN...</td>\n",
       "    </tr>\n",
       "  </tbody>\n",
       "</table>\n",
       "<p>1 rows × 35 columns</p>\n",
       "</div>"
      ],
      "text/plain": [
       "                                                name    tld cca2 ccn3 cca3  \\\n",
       "0  {'common': 'Canada', 'official': 'Canada', 'na...  [.ca]   CA  124  CAN   \n",
       "\n",
       "  cioc  independent               status  unMember  \\\n",
       "0  CAN         True  officially-assigned      True   \n",
       "\n",
       "                                          currencies  ...            gini  \\\n",
       "0  {'CAD': {'name': 'Canadian dollar', 'symbol': ...  ...  {'2017': 33.3}   \n",
       "\n",
       "  fifa                                  car  \\\n",
       "0  CAN  {'signs': ['CDN'], 'side': 'right'}   \n",
       "\n",
       "                                           timezones       continents  \\\n",
       "0  [UTC-08:00, UTC-07:00, UTC-06:00, UTC-05:00, U...  [North America]   \n",
       "\n",
       "                                               flags  \\\n",
       "0  {'png': 'https://flagcdn.com/w320/ca.png', 'sv...   \n",
       "\n",
       "                                          coatOfArms startOfWeek  \\\n",
       "0  {'png': 'https://mainfacts.com/media/images/co...      sunday   \n",
       "\n",
       "                  capitalInfo  \\\n",
       "0  {'latlng': [45.42, -75.7]}   \n",
       "\n",
       "                                          postalCode  \n",
       "0  {'format': '@#@ #@#', 'regex': '^([ABCEGHJKLMN...  \n",
       "\n",
       "[1 rows x 35 columns]"
      ]
     },
     "execution_count": 34,
     "metadata": {},
     "output_type": "execute_result"
    }
   ],
   "source": [
    "df = pd.DataFrame.from_dict(raw_data)\n",
    "df.head()"
   ]
  },
  {
   "cell_type": "code",
   "execution_count": 35,
   "metadata": {},
   "outputs": [
    {
     "data": {
      "text/plain": [
       "Index(['name', 'tld', 'cca2', 'ccn3', 'cca3', 'cioc', 'independent', 'status',\n",
       "       'unMember', 'currencies', 'idd', 'capital', 'altSpellings', 'region',\n",
       "       'subregion', 'languages', 'translations', 'latlng', 'landlocked',\n",
       "       'borders', 'area', 'demonyms', 'flag', 'maps', 'population', 'gini',\n",
       "       'fifa', 'car', 'timezones', 'continents', 'flags', 'coatOfArms',\n",
       "       'startOfWeek', 'capitalInfo', 'postalCode'],\n",
       "      dtype='object')"
      ]
     },
     "execution_count": 35,
     "metadata": {},
     "output_type": "execute_result"
    }
   ],
   "source": [
    "df.columns"
   ]
  },
  {
   "cell_type": "code",
   "execution_count": null,
   "metadata": {},
   "outputs": [],
   "source": []
  }
 ],
 "metadata": {
  "kernelspec": {
   "display_name": "base",
   "language": "python",
   "name": "python3"
  },
  "language_info": {
   "codemirror_mode": {
    "name": "ipython",
    "version": 3
   },
   "file_extension": ".py",
   "mimetype": "text/x-python",
   "name": "python",
   "nbconvert_exporter": "python",
   "pygments_lexer": "ipython3",
   "version": "3.12.4"
  }
 },
 "nbformat": 4,
 "nbformat_minor": 2
}
